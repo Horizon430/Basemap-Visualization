{
 "cells": [
  {
   "cell_type": "code",
   "execution_count": 89,
   "metadata": {},
   "outputs": [],
   "source": [
    "import pandas\n",
    "import pandas as pd\n",
    "import geopandas as gpd\n",
    "import folium\n",
    "import matplotlib.pyplot as plt"
   ]
  },
  {
   "cell_type": "code",
   "execution_count": 90,
   "metadata": {},
   "outputs": [
    {
     "data": {
      "text/plain": [
       "'\\n%pip install folium\\n%pip install geopandas\\n%pip install matplotlib\\n'"
      ]
     },
     "execution_count": 90,
     "metadata": {},
     "output_type": "execute_result"
    }
   ],
   "source": [
    "#neccessary libraries to be installed\n",
    "'''\n",
    "%pip install folium\n",
    "%pip install geopandas\n",
    "%pip install matplotlib\n",
    "'''"
   ]
  },
  {
   "attachments": {},
   "cell_type": "markdown",
   "metadata": {},
   "source": [
    "If you consider Toronto to be defined by its city wards, the centre of Toronto lies at 43.725518°N, 79.390531°W. \n",
    "\n",
    "If you consider Toronto to be defined by its neighbourhoods, the centre of Toronto lies at 43.726495°N, 79.390641°W.\n",
    "\n",
    "https://glaikit.org/2010/03/06/finding-the-exact-geographic-centre-of-toronto/"
   ]
  },
  {
   "cell_type": "code",
   "execution_count": 91,
   "metadata": {},
   "outputs": [],
   "source": [
    "#including GTA \n",
    "toronto_lat_long_tup = (43.725518, -79.390531)"
   ]
  },
  {
   "cell_type": "code",
   "execution_count": 92,
   "metadata": {},
   "outputs": [],
   "source": [
    "toronto_base_map = folium.Map(location=toronto_lat_long_tup, zoom_start=12, tiles='CartoDB positron')"
   ]
  },
  {
   "cell_type": "code",
   "execution_count": 93,
   "metadata": {},
   "outputs": [
    {
     "data": {
      "text/html": [
       "<div style=\"width:100%;\"><div style=\"position:relative;width:100%;height:0;padding-bottom:60%;\"><span style=\"color:#565656\">Make this Notebook Trusted to load map: File -> Trust Notebook</span><iframe srcdoc=\"&lt;!DOCTYPE html&gt;\n",
       "&lt;html&gt;\n",
       "&lt;head&gt;\n",
       "    \n",
       "    &lt;meta http-equiv=&quot;content-type&quot; content=&quot;text/html; charset=UTF-8&quot; /&gt;\n",
       "    \n",
       "        &lt;script&gt;\n",
       "            L_NO_TOUCH = false;\n",
       "            L_DISABLE_3D = false;\n",
       "        &lt;/script&gt;\n",
       "    \n",
       "    &lt;style&gt;html, body {width: 100%;height: 100%;margin: 0;padding: 0;}&lt;/style&gt;\n",
       "    &lt;style&gt;#map {position:absolute;top:0;bottom:0;right:0;left:0;}&lt;/style&gt;\n",
       "    &lt;script src=&quot;https://cdn.jsdelivr.net/npm/leaflet@1.9.3/dist/leaflet.js&quot;&gt;&lt;/script&gt;\n",
       "    &lt;script src=&quot;https://code.jquery.com/jquery-1.12.4.min.js&quot;&gt;&lt;/script&gt;\n",
       "    &lt;script src=&quot;https://cdn.jsdelivr.net/npm/bootstrap@5.2.2/dist/js/bootstrap.bundle.min.js&quot;&gt;&lt;/script&gt;\n",
       "    &lt;script src=&quot;https://cdnjs.cloudflare.com/ajax/libs/Leaflet.awesome-markers/2.0.2/leaflet.awesome-markers.js&quot;&gt;&lt;/script&gt;\n",
       "    &lt;link rel=&quot;stylesheet&quot; href=&quot;https://cdn.jsdelivr.net/npm/leaflet@1.9.3/dist/leaflet.css&quot;/&gt;\n",
       "    &lt;link rel=&quot;stylesheet&quot; href=&quot;https://cdn.jsdelivr.net/npm/bootstrap@5.2.2/dist/css/bootstrap.min.css&quot;/&gt;\n",
       "    &lt;link rel=&quot;stylesheet&quot; href=&quot;https://netdna.bootstrapcdn.com/bootstrap/3.0.0/css/bootstrap.min.css&quot;/&gt;\n",
       "    &lt;link rel=&quot;stylesheet&quot; href=&quot;https://cdn.jsdelivr.net/npm/@fortawesome/fontawesome-free@6.2.0/css/all.min.css&quot;/&gt;\n",
       "    &lt;link rel=&quot;stylesheet&quot; href=&quot;https://cdnjs.cloudflare.com/ajax/libs/Leaflet.awesome-markers/2.0.2/leaflet.awesome-markers.css&quot;/&gt;\n",
       "    &lt;link rel=&quot;stylesheet&quot; href=&quot;https://cdn.jsdelivr.net/gh/python-visualization/folium/folium/templates/leaflet.awesome.rotate.min.css&quot;/&gt;\n",
       "    \n",
       "            &lt;meta name=&quot;viewport&quot; content=&quot;width=device-width,\n",
       "                initial-scale=1.0, maximum-scale=1.0, user-scalable=no&quot; /&gt;\n",
       "            &lt;style&gt;\n",
       "                #map_ac7297705fe2dc1e3618d3515993a7fe {\n",
       "                    position: relative;\n",
       "                    width: 100.0%;\n",
       "                    height: 100.0%;\n",
       "                    left: 0.0%;\n",
       "                    top: 0.0%;\n",
       "                }\n",
       "                .leaflet-container { font-size: 1rem; }\n",
       "            &lt;/style&gt;\n",
       "        \n",
       "&lt;/head&gt;\n",
       "&lt;body&gt;\n",
       "    \n",
       "    \n",
       "            &lt;div class=&quot;folium-map&quot; id=&quot;map_ac7297705fe2dc1e3618d3515993a7fe&quot; &gt;&lt;/div&gt;\n",
       "        \n",
       "&lt;/body&gt;\n",
       "&lt;script&gt;\n",
       "    \n",
       "    \n",
       "            var map_ac7297705fe2dc1e3618d3515993a7fe = L.map(\n",
       "                &quot;map_ac7297705fe2dc1e3618d3515993a7fe&quot;,\n",
       "                {\n",
       "                    center: [43.725518, -79.390531],\n",
       "                    crs: L.CRS.EPSG3857,\n",
       "                    zoom: 12,\n",
       "                    zoomControl: true,\n",
       "                    preferCanvas: false,\n",
       "                }\n",
       "            );\n",
       "\n",
       "            \n",
       "\n",
       "        \n",
       "    \n",
       "            var tile_layer_5d4c67430c8edb7847bba2c80421a0ea = L.tileLayer(\n",
       "                &quot;https://cartodb-basemaps-{s}.global.ssl.fastly.net/light_all/{z}/{x}/{y}.png&quot;,\n",
       "                {&quot;attribution&quot;: &quot;\\u0026copy; \\u003ca target=\\&quot;_blank\\&quot; href=\\&quot;http://www.openstreetmap.org/copyright\\&quot;\\u003eOpenStreetMap\\u003c/a\\u003e contributors \\u0026copy; \\u003ca target=\\&quot;_blank\\&quot; href=\\&quot;http://cartodb.com/attributions\\&quot;\\u003eCartoDB\\u003c/a\\u003e, CartoDB \\u003ca target=\\&quot;_blank\\&quot; href =\\&quot;http://cartodb.com/attributions\\&quot;\\u003eattributions\\u003c/a\\u003e&quot;, &quot;detectRetina&quot;: false, &quot;maxNativeZoom&quot;: 18, &quot;maxZoom&quot;: 18, &quot;minZoom&quot;: 0, &quot;noWrap&quot;: false, &quot;opacity&quot;: 1, &quot;subdomains&quot;: &quot;abc&quot;, &quot;tms&quot;: false}\n",
       "            ).addTo(map_ac7297705fe2dc1e3618d3515993a7fe);\n",
       "        \n",
       "&lt;/script&gt;\n",
       "&lt;/html&gt;\" style=\"position:absolute;width:100%;height:100%;left:0;top:0;border:none !important;\" allowfullscreen webkitallowfullscreen mozallowfullscreen></iframe></div></div>"
      ],
      "text/plain": [
       "<folium.folium.Map at 0x12ad21390>"
      ]
     },
     "execution_count": 93,
     "metadata": {},
     "output_type": "execute_result"
    }
   ],
   "source": [
    "toronto_base_map"
   ]
  },
  {
   "cell_type": "code",
   "execution_count": 94,
   "metadata": {},
   "outputs": [
    {
     "data": {
      "text/html": [
       "<div>\n",
       "<style scoped>\n",
       "    .dataframe tbody tr th:only-of-type {\n",
       "        vertical-align: middle;\n",
       "    }\n",
       "\n",
       "    .dataframe tbody tr th {\n",
       "        vertical-align: top;\n",
       "    }\n",
       "\n",
       "    .dataframe thead th {\n",
       "        text-align: right;\n",
       "    }\n",
       "</style>\n",
       "<table border=\"1\" class=\"dataframe\">\n",
       "  <thead>\n",
       "    <tr style=\"text-align: right;\">\n",
       "      <th></th>\n",
       "      <th>FIELD_1</th>\n",
       "      <th>FIELD_2</th>\n",
       "      <th>FIELD_3</th>\n",
       "      <th>FIELD_4</th>\n",
       "      <th>FIELD_5</th>\n",
       "      <th>FIELD_6</th>\n",
       "      <th>FIELD_7</th>\n",
       "      <th>FIELD_8</th>\n",
       "      <th>FIELD_9</th>\n",
       "      <th>FIELD_10</th>\n",
       "      <th>...</th>\n",
       "      <th>FIELD_19</th>\n",
       "      <th>FIELD_20</th>\n",
       "      <th>FIELD_21</th>\n",
       "      <th>FIELD_22</th>\n",
       "      <th>FIELD_23</th>\n",
       "      <th>FIELD_24</th>\n",
       "      <th>FIELD_25</th>\n",
       "      <th>FIELD_26</th>\n",
       "      <th>FIELD_27</th>\n",
       "      <th>geometry</th>\n",
       "    </tr>\n",
       "  </thead>\n",
       "  <tbody>\n",
       "    <tr>\n",
       "      <th>0</th>\n",
       "      <td>1</td>\n",
       "      <td>13465959.0</td>\n",
       "      <td>Richmond St E</td>\n",
       "      <td>Parliament St</td>\n",
       "      <td>1</td>\n",
       "      <td>1</td>\n",
       "      <td>1</td>\n",
       "      <td>RICHMOND ST E</td>\n",
       "      <td>PARLIAMENT ST</td>\n",
       "      <td>6001</td>\n",
       "      <td>...</td>\n",
       "      <td>Toronto and East York</td>\n",
       "      <td>Toronto Centre(13)</td>\n",
       "      <td>None</td>\n",
       "      <td>None</td>\n",
       "      <td>None</td>\n",
       "      <td>51</td>\n",
       "      <td>None</td>\n",
       "      <td>None</td>\n",
       "      <td>2007-11-09T05:00:00</td>\n",
       "      <td>POINT (-79.36402 43.65456)</td>\n",
       "    </tr>\n",
       "    <tr>\n",
       "      <th>1</th>\n",
       "      <td>2</td>\n",
       "      <td>13467993.0</td>\n",
       "      <td>Lake Shore Blvd W</td>\n",
       "      <td>York St</td>\n",
       "      <td>2</td>\n",
       "      <td>2</td>\n",
       "      <td>2</td>\n",
       "      <td>LAKE SHORE BLVD W</td>\n",
       "      <td>YORK ST</td>\n",
       "      <td>6002</td>\n",
       "      <td>...</td>\n",
       "      <td>Toronto and East York</td>\n",
       "      <td>Spadina-Fort York(10)</td>\n",
       "      <td>None</td>\n",
       "      <td>None</td>\n",
       "      <td>None</td>\n",
       "      <td>52</td>\n",
       "      <td>None</td>\n",
       "      <td>None</td>\n",
       "      <td>2007-11-09T05:00:00</td>\n",
       "      <td>POINT (-79.38087 43.64146)</td>\n",
       "    </tr>\n",
       "    <tr>\n",
       "      <th>2</th>\n",
       "      <td>3</td>\n",
       "      <td>13444656.0</td>\n",
       "      <td>Steeles Ave W</td>\n",
       "      <td>Carpenter Rd</td>\n",
       "      <td>3</td>\n",
       "      <td>3</td>\n",
       "      <td>3</td>\n",
       "      <td>STEELES AVE W</td>\n",
       "      <td>CARPENTER RD</td>\n",
       "      <td>6003</td>\n",
       "      <td>...</td>\n",
       "      <td>North York</td>\n",
       "      <td>York Centre(6)</td>\n",
       "      <td>None</td>\n",
       "      <td>None</td>\n",
       "      <td>None</td>\n",
       "      <td>32</td>\n",
       "      <td>None</td>\n",
       "      <td>None</td>\n",
       "      <td>2007-11-09T05:00:00</td>\n",
       "      <td>POINT (-79.44759 43.79201)</td>\n",
       "    </tr>\n",
       "    <tr>\n",
       "      <th>3</th>\n",
       "      <td>4</td>\n",
       "      <td>13444138.0</td>\n",
       "      <td>Steeles Ave W</td>\n",
       "      <td>Hilda Ave</td>\n",
       "      <td>4</td>\n",
       "      <td>4</td>\n",
       "      <td>4</td>\n",
       "      <td>STEELES AVE W</td>\n",
       "      <td>HILDA AVE</td>\n",
       "      <td>6004</td>\n",
       "      <td>...</td>\n",
       "      <td>North York</td>\n",
       "      <td>Willowdale(18)</td>\n",
       "      <td>None</td>\n",
       "      <td>None</td>\n",
       "      <td>None</td>\n",
       "      <td>32</td>\n",
       "      <td>None</td>\n",
       "      <td>None</td>\n",
       "      <td>2007-11-09T05:00:00</td>\n",
       "      <td>POINT (-79.42927 43.79601)</td>\n",
       "    </tr>\n",
       "    <tr>\n",
       "      <th>4</th>\n",
       "      <td>5</td>\n",
       "      <td>13451893.0</td>\n",
       "      <td>Albion Rd</td>\n",
       "      <td>Silverstone Dr</td>\n",
       "      <td>5</td>\n",
       "      <td>5</td>\n",
       "      <td>5</td>\n",
       "      <td>ALBION RD</td>\n",
       "      <td>SILVERSTONE DR</td>\n",
       "      <td>6005</td>\n",
       "      <td>...</td>\n",
       "      <td>Etobicoke York</td>\n",
       "      <td>Etobicoke North(1)</td>\n",
       "      <td>None</td>\n",
       "      <td>None</td>\n",
       "      <td>None</td>\n",
       "      <td>23</td>\n",
       "      <td>None</td>\n",
       "      <td>None</td>\n",
       "      <td>2007-11-09T05:00:00</td>\n",
       "      <td>POINT (-79.60009 43.74295)</td>\n",
       "    </tr>\n",
       "  </tbody>\n",
       "</table>\n",
       "<p>5 rows × 28 columns</p>\n",
       "</div>"
      ],
      "text/plain": [
       "   FIELD_1     FIELD_2            FIELD_3         FIELD_4  FIELD_5  FIELD_6  \\\n",
       "0        1  13465959.0      Richmond St E   Parliament St        1        1   \n",
       "1        2  13467993.0  Lake Shore Blvd W         York St        2        2   \n",
       "2        3  13444656.0      Steeles Ave W    Carpenter Rd        3        3   \n",
       "3        4  13444138.0      Steeles Ave W       Hilda Ave        4        4   \n",
       "4        5  13451893.0          Albion Rd  Silverstone Dr        5        5   \n",
       "\n",
       "   FIELD_7            FIELD_8         FIELD_9  FIELD_10  ...  \\\n",
       "0        1      RICHMOND ST E   PARLIAMENT ST      6001  ...   \n",
       "1        2  LAKE SHORE BLVD W         YORK ST      6002  ...   \n",
       "2        3      STEELES AVE W    CARPENTER RD      6003  ...   \n",
       "3        4      STEELES AVE W       HILDA AVE      6004  ...   \n",
       "4        5          ALBION RD  SILVERSTONE DR      6005  ...   \n",
       "\n",
       "                FIELD_19               FIELD_20 FIELD_21 FIELD_22 FIELD_23  \\\n",
       "0  Toronto and East York     Toronto Centre(13)     None     None     None   \n",
       "1  Toronto and East York  Spadina-Fort York(10)     None     None     None   \n",
       "2             North York         York Centre(6)     None     None     None   \n",
       "3             North York         Willowdale(18)     None     None     None   \n",
       "4         Etobicoke York     Etobicoke North(1)     None     None     None   \n",
       "\n",
       "  FIELD_24 FIELD_25 FIELD_26             FIELD_27                    geometry  \n",
       "0       51     None     None  2007-11-09T05:00:00  POINT (-79.36402 43.65456)  \n",
       "1       52     None     None  2007-11-09T05:00:00  POINT (-79.38087 43.64146)  \n",
       "2       32     None     None  2007-11-09T05:00:00  POINT (-79.44759 43.79201)  \n",
       "3       32     None     None  2007-11-09T05:00:00  POINT (-79.42927 43.79601)  \n",
       "4       23     None     None  2007-11-09T05:00:00  POINT (-79.60009 43.74295)  \n",
       "\n",
       "[5 rows x 28 columns]"
      ]
     },
     "execution_count": 94,
     "metadata": {},
     "output_type": "execute_result"
    }
   ],
   "source": [
    "df = gpd.read_file('/Users/deathcruiser/Downloads/Red Light Cameras Data - 4326/Red Light Cameras Data.shp')\n",
    "df.head()"
   ]
  },
  {
   "cell_type": "code",
   "execution_count": 95,
   "metadata": {},
   "outputs": [
    {
     "data": {
      "text/plain": [
       "0    POINT (-79.36402 43.65456)\n",
       "dtype: geometry"
      ]
     },
     "execution_count": 95,
     "metadata": {},
     "output_type": "execute_result"
    }
   ],
   "source": [
    "geo_j = gpd.GeoSeries(df['geometry'][0]).simplify(tolerance=0.001)\n",
    "geo_j"
   ]
  },
  {
   "cell_type": "code",
   "execution_count": 96,
   "metadata": {},
   "outputs": [],
   "source": [
    "geo_j = geo_j.to_json()"
   ]
  },
  {
   "cell_type": "code",
   "execution_count": 97,
   "metadata": {},
   "outputs": [],
   "source": [
    "geo_j = folium.GeoJson(data=geo_j,\n",
    "                       style_function=lambda x: {'fillColor': 'orange'})\n"
   ]
  },
  {
   "cell_type": "code",
   "execution_count": 99,
   "metadata": {},
   "outputs": [
    {
     "data": {
      "text/plain": [
       "<folium.features.GeoJson at 0x12ad21240>"
      ]
     },
     "execution_count": 99,
     "metadata": {},
     "output_type": "execute_result"
    }
   ],
   "source": [
    "geo_j.add_to(toronto_base_map)"
   ]
  },
  {
   "cell_type": "code",
   "execution_count": 100,
   "metadata": {},
   "outputs": [
    {
     "data": {
      "text/html": [
       "<div style=\"width:100%;\"><div style=\"position:relative;width:100%;height:0;padding-bottom:60%;\"><span style=\"color:#565656\">Make this Notebook Trusted to load map: File -> Trust Notebook</span><iframe srcdoc=\"&lt;!DOCTYPE html&gt;\n",
       "&lt;html&gt;\n",
       "&lt;head&gt;\n",
       "    \n",
       "    &lt;meta http-equiv=&quot;content-type&quot; content=&quot;text/html; charset=UTF-8&quot; /&gt;\n",
       "    \n",
       "        &lt;script&gt;\n",
       "            L_NO_TOUCH = false;\n",
       "            L_DISABLE_3D = false;\n",
       "        &lt;/script&gt;\n",
       "    \n",
       "    &lt;style&gt;html, body {width: 100%;height: 100%;margin: 0;padding: 0;}&lt;/style&gt;\n",
       "    &lt;style&gt;#map {position:absolute;top:0;bottom:0;right:0;left:0;}&lt;/style&gt;\n",
       "    &lt;script src=&quot;https://cdn.jsdelivr.net/npm/leaflet@1.9.3/dist/leaflet.js&quot;&gt;&lt;/script&gt;\n",
       "    &lt;script src=&quot;https://code.jquery.com/jquery-1.12.4.min.js&quot;&gt;&lt;/script&gt;\n",
       "    &lt;script src=&quot;https://cdn.jsdelivr.net/npm/bootstrap@5.2.2/dist/js/bootstrap.bundle.min.js&quot;&gt;&lt;/script&gt;\n",
       "    &lt;script src=&quot;https://cdnjs.cloudflare.com/ajax/libs/Leaflet.awesome-markers/2.0.2/leaflet.awesome-markers.js&quot;&gt;&lt;/script&gt;\n",
       "    &lt;link rel=&quot;stylesheet&quot; href=&quot;https://cdn.jsdelivr.net/npm/leaflet@1.9.3/dist/leaflet.css&quot;/&gt;\n",
       "    &lt;link rel=&quot;stylesheet&quot; href=&quot;https://cdn.jsdelivr.net/npm/bootstrap@5.2.2/dist/css/bootstrap.min.css&quot;/&gt;\n",
       "    &lt;link rel=&quot;stylesheet&quot; href=&quot;https://netdna.bootstrapcdn.com/bootstrap/3.0.0/css/bootstrap.min.css&quot;/&gt;\n",
       "    &lt;link rel=&quot;stylesheet&quot; href=&quot;https://cdn.jsdelivr.net/npm/@fortawesome/fontawesome-free@6.2.0/css/all.min.css&quot;/&gt;\n",
       "    &lt;link rel=&quot;stylesheet&quot; href=&quot;https://cdnjs.cloudflare.com/ajax/libs/Leaflet.awesome-markers/2.0.2/leaflet.awesome-markers.css&quot;/&gt;\n",
       "    &lt;link rel=&quot;stylesheet&quot; href=&quot;https://cdn.jsdelivr.net/gh/python-visualization/folium/folium/templates/leaflet.awesome.rotate.min.css&quot;/&gt;\n",
       "    \n",
       "            &lt;meta name=&quot;viewport&quot; content=&quot;width=device-width,\n",
       "                initial-scale=1.0, maximum-scale=1.0, user-scalable=no&quot; /&gt;\n",
       "            &lt;style&gt;\n",
       "                #map_ac7297705fe2dc1e3618d3515993a7fe {\n",
       "                    position: relative;\n",
       "                    width: 100.0%;\n",
       "                    height: 100.0%;\n",
       "                    left: 0.0%;\n",
       "                    top: 0.0%;\n",
       "                }\n",
       "                .leaflet-container { font-size: 1rem; }\n",
       "            &lt;/style&gt;\n",
       "        \n",
       "&lt;/head&gt;\n",
       "&lt;body&gt;\n",
       "    \n",
       "    \n",
       "            &lt;div class=&quot;folium-map&quot; id=&quot;map_ac7297705fe2dc1e3618d3515993a7fe&quot; &gt;&lt;/div&gt;\n",
       "        \n",
       "&lt;/body&gt;\n",
       "&lt;script&gt;\n",
       "    \n",
       "    \n",
       "            var map_ac7297705fe2dc1e3618d3515993a7fe = L.map(\n",
       "                &quot;map_ac7297705fe2dc1e3618d3515993a7fe&quot;,\n",
       "                {\n",
       "                    center: [43.725518, -79.390531],\n",
       "                    crs: L.CRS.EPSG3857,\n",
       "                    zoom: 12,\n",
       "                    zoomControl: true,\n",
       "                    preferCanvas: false,\n",
       "                }\n",
       "            );\n",
       "\n",
       "            \n",
       "\n",
       "        \n",
       "    \n",
       "            var tile_layer_5d4c67430c8edb7847bba2c80421a0ea = L.tileLayer(\n",
       "                &quot;https://cartodb-basemaps-{s}.global.ssl.fastly.net/light_all/{z}/{x}/{y}.png&quot;,\n",
       "                {&quot;attribution&quot;: &quot;\\u0026copy; \\u003ca target=\\&quot;_blank\\&quot; href=\\&quot;http://www.openstreetmap.org/copyright\\&quot;\\u003eOpenStreetMap\\u003c/a\\u003e contributors \\u0026copy; \\u003ca target=\\&quot;_blank\\&quot; href=\\&quot;http://cartodb.com/attributions\\&quot;\\u003eCartoDB\\u003c/a\\u003e, CartoDB \\u003ca target=\\&quot;_blank\\&quot; href =\\&quot;http://cartodb.com/attributions\\&quot;\\u003eattributions\\u003c/a\\u003e&quot;, &quot;detectRetina&quot;: false, &quot;maxNativeZoom&quot;: 18, &quot;maxZoom&quot;: 18, &quot;minZoom&quot;: 0, &quot;noWrap&quot;: false, &quot;opacity&quot;: 1, &quot;subdomains&quot;: &quot;abc&quot;, &quot;tms&quot;: false}\n",
       "            ).addTo(map_ac7297705fe2dc1e3618d3515993a7fe);\n",
       "        \n",
       "    \n",
       "        function geo_json_d9c74b414e345621f626f03eb76b9aa7_styler(feature) {\n",
       "            switch(feature.id) {\n",
       "                default:\n",
       "                    return {&quot;fillColor&quot;: &quot;orange&quot;};\n",
       "            }\n",
       "        }\n",
       "\n",
       "        function geo_json_d9c74b414e345621f626f03eb76b9aa7_onEachFeature(feature, layer) {\n",
       "            layer.on({\n",
       "            });\n",
       "        };\n",
       "        var geo_json_d9c74b414e345621f626f03eb76b9aa7 = L.geoJson(null, {\n",
       "                onEachFeature: geo_json_d9c74b414e345621f626f03eb76b9aa7_onEachFeature,\n",
       "            \n",
       "                style: geo_json_d9c74b414e345621f626f03eb76b9aa7_styler,\n",
       "        });\n",
       "\n",
       "        function geo_json_d9c74b414e345621f626f03eb76b9aa7_add (data) {\n",
       "            geo_json_d9c74b414e345621f626f03eb76b9aa7\n",
       "                .addData(data)\n",
       "                .addTo(map_ac7297705fe2dc1e3618d3515993a7fe);\n",
       "        }\n",
       "            geo_json_d9c74b414e345621f626f03eb76b9aa7_add({&quot;bbox&quot;: [-79.3640229981536, 43.65455901107341, -79.3640229981536, 43.65455901107341], &quot;features&quot;: [{&quot;bbox&quot;: [-79.3640229981536, 43.65455901107341, -79.3640229981536, 43.65455901107341], &quot;geometry&quot;: {&quot;coordinates&quot;: [-79.3640229981536, 43.65455901107341], &quot;type&quot;: &quot;Point&quot;}, &quot;id&quot;: &quot;0&quot;, &quot;properties&quot;: {}, &quot;type&quot;: &quot;Feature&quot;}], &quot;type&quot;: &quot;FeatureCollection&quot;});\n",
       "\n",
       "        \n",
       "&lt;/script&gt;\n",
       "&lt;/html&gt;\" style=\"position:absolute;width:100%;height:100%;left:0;top:0;border:none !important;\" allowfullscreen webkitallowfullscreen mozallowfullscreen></iframe></div></div>"
      ],
      "text/plain": [
       "<folium.folium.Map at 0x12ad21390>"
      ]
     },
     "execution_count": 100,
     "metadata": {},
     "output_type": "execute_result"
    }
   ],
   "source": [
    "toronto_base_map"
   ]
  },
  {
   "cell_type": "code",
   "execution_count": null,
   "metadata": {},
   "outputs": [],
   "source": []
  }
 ],
 "metadata": {
  "kernelspec": {
   "display_name": "Python 3",
   "language": "python",
   "name": "python3"
  },
  "language_info": {
   "codemirror_mode": {
    "name": "ipython",
    "version": 3
   },
   "file_extension": ".py",
   "mimetype": "text/x-python",
   "name": "python",
   "nbconvert_exporter": "python",
   "pygments_lexer": "ipython3",
   "version": "3.10.8"
  },
  "orig_nbformat": 4,
  "vscode": {
   "interpreter": {
    "hash": "b0fa6594d8f4cbf19f97940f81e996739fb7646882a419484c72d19e05852a7e"
   }
  }
 },
 "nbformat": 4,
 "nbformat_minor": 2
}
